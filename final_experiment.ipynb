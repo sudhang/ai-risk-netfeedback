{
 "cells": [
  {
   "cell_type": "code",
   "execution_count": 1,
   "metadata": {},
   "outputs": [],
   "source": [
    "import pandas as pd\n",
    "import matplotlib.pyplot as plt\n",
    "import experiments as exp\n",
    "import netin"
   ]
  },
  {
   "cell_type": "code",
   "execution_count": 8,
   "metadata": {},
   "outputs": [],
   "source": [
    "%%capture\n",
    "import numpy as np\n",
    "netin.utils.constants.RANK_RANGE = np.arange(0.01, 1 + 0.01, 0.01)\n",
    "exp.run_and_plot_experiment(\n",
    "    experiment_name=\"Exp12H2000NodesPageRankMediumHomophily1Rewiring100Iterations\",\n",
    "    metric=\"pagerank\",\n",
    "    network_size=2000,\n",
    "    rewire_num=5,\n",
    "    num_iterations=60,\n",
    "    majority_homophily=0.7,\n",
    "    minority_homophily=0.7,\n",
    "    minority_fraction=0.3,\n",
    "    num_runs=10,\n",
    ")"
   ]
  }
 ],
 "metadata": {
  "kernelspec": {
   "display_name": "thesis",
   "language": "python",
   "name": "python3"
  },
  "language_info": {
   "codemirror_mode": {
    "name": "ipython",
    "version": 3
   },
   "file_extension": ".py",
   "mimetype": "text/x-python",
   "name": "python",
   "nbconvert_exporter": "python",
   "pygments_lexer": "ipython3",
   "version": "3.1.-1"
  }
 },
 "nbformat": 4,
 "nbformat_minor": 2
}
